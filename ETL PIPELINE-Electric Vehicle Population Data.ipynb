{
 "cells": [
  {
   "cell_type": "code",
   "execution_count": 9,
   "id": "26e1d294",
   "metadata": {},
   "outputs": [
    {
     "data": {
      "text/plain": [
       "'/Users/ashmeetsaluja/Downloads/Cleaned_Electric_Vehicle_Population_Data.csv'"
      ]
     },
     "execution_count": 9,
     "metadata": {},
     "output_type": "execute_result"
    }
   ],
   "source": [
    "import pandas as pd\n",
    "\n",
    "# Load the dataset\n",
    "file_path = 'Electric_Vehicle_Population_Data.csv'\n",
    "ev_data = pd.read_csv(file_path)\n",
    "\n",
    "# Step 2: Transform\n",
    "\n",
    "# Remove rows with missing Postal Code\n",
    "ev_data = ev_data.dropna(subset=['Postal Code'])\n",
    "\n",
    "# Convert Model Year and Electric Range to integers\n",
    "ev_data['Model Year'] = ev_data['Model Year'].astype(int)\n",
    "ev_data['Electric Range'] = ev_data['Electric Range'].fillna(0).astype(int)\n",
    "\n",
    "# Clean the Base MSRP field\n",
    "ev_data['Base MSRP'] = ev_data['Base MSRP'].fillna(0)\n",
    "\n",
    "# Extract latitude and longitude from Vehicle Location\n",
    "def extract_lat_long(location):\n",
    "    if pd.isna(location):\n",
    "        return None, None\n",
    "    try:\n",
    "        location = location.replace('POINT (', '').replace(')', '')\n",
    "        lon, lat = map(float, location.split())\n",
    "        return lat, lon\n",
    "    except:\n",
    "        return None, None\n",
    "\n",
    "ev_data['Latitude'], ev_data['Longitude'] = zip(*ev_data['Vehicle Location'].apply(extract_lat_long))\n",
    "\n",
    "# Drop the original Vehicle Location column\n",
    "ev_data = ev_data.drop(columns=['Vehicle Location'])\n",
    "\n",
    "# Step 3: Load\n",
    "\n",
    "# Save the cleaned data to a new CSV file\n",
    "cleaned_file_path = '/Users/ashmeetsaluja/Downloads/Cleaned_Electric_Vehicle_Population_Data.csv'\n",
    "ev_data.to_csv(cleaned_file_path, index=False)\n",
    "\n",
    "# Display a message indicating the process is complete\n",
    "cleaned_file_path\n"
   ]
  },
  {
   "cell_type": "code",
   "execution_count": null,
   "id": "16d1412f",
   "metadata": {},
   "outputs": [],
   "source": []
  }
 ],
 "metadata": {
  "kernelspec": {
   "display_name": "Python 3 (ipykernel)",
   "language": "python",
   "name": "python3"
  },
  "language_info": {
   "codemirror_mode": {
    "name": "ipython",
    "version": 3
   },
   "file_extension": ".py",
   "mimetype": "text/x-python",
   "name": "python",
   "nbconvert_exporter": "python",
   "pygments_lexer": "ipython3",
   "version": "3.11.5"
  }
 },
 "nbformat": 4,
 "nbformat_minor": 5
}
